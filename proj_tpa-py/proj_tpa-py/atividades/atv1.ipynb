{
 "cells": [
  {
   "cell_type": "code",
   "execution_count": 6,
   "metadata": {},
   "outputs": [
    {
     "name": "stdout",
     "output_type": "stream",
     "text": [
      "Saldo final: R$153.00\n"
     ]
    }
   ],
   "source": [
    "def saldo_final(deposito, pix, doc, idade):\n",
    "    saldo = deposito\n",
    "    saldo -= pix\n",
    "    \n",
    "    taxa_doc = 0\n",
    "    if idade <= 60:\n",
    "        taxa_doc = 0.05  # 5% de taxa\n",
    "    \n",
    "    valor_taxa_doc = doc * taxa_doc\n",
    "    saldo -= (doc + valor_taxa_doc)\n",
    "    \n",
    "    return saldo\n",
    "\n",
    "di = 500  #deposito inicial\n",
    "vp = 200 #valor pix\n",
    "vd = 140 #valor doc\n",
    "ic = 45  # idade\n",
    "\n",
    "# saldo final\n",
    "saldo = saldo_final(di, vp, vd, ic)\n",
    "print(f\"Saldo final: R${saldo:.2f}\")\n"
   ]
  },
  {
   "cell_type": "code",
   "execution_count": 7,
   "metadata": {},
   "outputs": [
    {
     "name": "stdout",
     "output_type": "stream",
     "text": [
      "Valor pago pelo veículo: R$39160.00\n",
      "Saldo restante: R$10840.00\n"
     ]
    }
   ],
   "source": [
    "def vfc  (vc, idade): #valor final do carro\n",
    "    if idade <= 30:\n",
    "        desconto = 0.05  # 5%\n",
    "    elif idade <= 50:\n",
    "        desconto = 0.12  # 12%\n",
    "    else:\n",
    "        desconto = 0.15  # 15%\n",
    "    \n",
    "    vp = vc * (1 - desconto) #vp valor pago e vc valor do carro\n",
    "    return vp\n",
    "\n",
    "# Entradas\n",
    "si = 50000 #saldo inicial\n",
    "vc = 44500\n",
    "ic = 35  # idade\n",
    "\n",
    "\n",
    "vp = vfc(vc, ic)\n",
    "saldo_restante = si - vp\n",
    "\n",
    "print(f\"Valor pago pelo veículo: R${vp:.2f}\")\n",
    "print(f\"Saldo restante: R${saldo_restante:.2f}\")"
   ]
  },
  {
   "cell_type": "markdown",
   "metadata": {},
   "source": [
    "desculpa o atraso, professor. não tenho pc em casa, só consigo fazer na escola."
   ]
  }
 ],
 "metadata": {
  "kernelspec": {
   "display_name": "Python 3",
   "language": "python",
   "name": "python3"
  },
  "language_info": {
   "codemirror_mode": {
    "name": "ipython",
    "version": 3
   },
   "file_extension": ".py",
   "mimetype": "text/x-python",
   "name": "python",
   "nbconvert_exporter": "python",
   "pygments_lexer": "ipython3",
   "version": "3.12.2"
  }
 },
 "nbformat": 4,
 "nbformat_minor": 2
}
