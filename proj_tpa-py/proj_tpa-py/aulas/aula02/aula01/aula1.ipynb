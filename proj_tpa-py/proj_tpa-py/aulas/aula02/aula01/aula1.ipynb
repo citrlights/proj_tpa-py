{
 "cells": [
  {
   "cell_type": "code",
   "execution_count": 1,
   "metadata": {},
   "outputs": [
    {
     "name": "stdout",
     "output_type": "stream",
     "text": [
      "1- Maçã\n",
      "2-Banana\n",
      "3-Laranja\n",
      "4-Manga\n",
      "5-Uva\n",
      "6-Pera\n",
      "7-Melancia\n",
      "8-Abacaxi\n",
      "9-Kiwi\n",
      "10-Morango\n"
     ]
    }
   ],
   "source": [
    "\n",
    "frutas = [ \"1- Maçã\", \"2-Banana\", \"3-Laranja\", \"4-Manga\",\"5-Uva\",\"6-Pera\",\"7-Melancia\",\"8-Abacaxi\",\"9-Kiwi\",\"10-Morango\"\n",
    "]\n",
    "\n",
    "for fruta in frutas:\n",
    "    print(fruta)\n"
   ]
  }
 ],
 "metadata": {
  "kernelspec": {
   "display_name": "Python 3",
   "language": "python",
   "name": "python3"
  },
  "language_info": {
   "codemirror_mode": {
    "name": "ipython",
    "version": 3
   },
   "file_extension": ".py",
   "mimetype": "text/x-python",
   "name": "python",
   "nbconvert_exporter": "python",
   "pygments_lexer": "ipython3",
   "version": "3.12.2"
  }
 },
 "nbformat": 4,
 "nbformat_minor": 2
}
