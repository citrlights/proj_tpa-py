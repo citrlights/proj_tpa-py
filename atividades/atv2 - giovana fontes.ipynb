{
 "cells": [
  {
   "cell_type": "markdown",
   "metadata": {},
   "source": [
    "# exercício 1"
   ]
  },
  {
   "cell_type": "code",
   "execution_count": null,
   "metadata": {},
   "outputs": [],
   "source": [
    "import math\n",
    "def bhaskara (a,b,c,x):\n",
    "    if(a==0):\n",
    "        res = 'Impossível calcular'\n",
    "    else:\n",
    "        delta = (b^b) - (4*a*c)\n",
    "        if(delta<0):\n",
    "            res = \"Impossível calcular\"\n",
    "        else:\n",
    "            if(x==1):\n",
    "                res = (-b+math.sqrt(delta))/(2*a)\n",
    "                if(x==2):\n",
    "                    res = (-b+math.sqrt(delta))/(2*a)\n",
    "     return res               "
   ]
  },
  {
   "cell_type": "markdown",
   "metadata": {},
   "source": [
    "# exercicio 2"
   ]
  },
  {
   "cell_type": "code",
   "execution_count": null,
   "metadata": {},
   "outputs": [],
   "source": [
    "cel = [8,23,34,39,42]\n",
    "fah = []\n",
    "for z in cel:\n",
    "    fah.append(round((z*1.80)+ 32))\n",
    "    print(fah)"
   ]
  },
  {
   "cell_type": "code",
   "execution_count": null,
   "metadata": {},
   "outputs": [],
   "source": [
    "fah2 = list(map(lambda x: round(x * 1.80 + 32), cel))\n",
    "print(fah2)"
   ]
  }
 ],
 "metadata": {
  "language_info": {
   "name": "python"
  }
 },
 "nbformat": 4,
 "nbformat_minor": 2
}
