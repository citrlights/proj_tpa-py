{
 "cells": [
  {
   "cell_type": "markdown",
   "metadata": {},
   "source": [
    "## Atividade 11 - Estudo de caso de supermercado"
   ]
  },
  {
   "cell_type": "code",
   "execution_count": 56,
   "metadata": {},
   "outputs": [],
   "source": [
    "caixa_rapido = []  # Caixa rápido (20 unidades)\n",
    "caixa_idoso = []   # Caixa para idosos (60+)\n",
    "caixa_comum = []   # Caixa comum "
   ]
  },
  {
   "cell_type": "code",
   "execution_count": 57,
   "metadata": {},
   "outputs": [],
   "source": [
    "def adicionar_cliente(nome, idade, unidades):\n",
    "    if idade >= 60:\n",
    "        caixa_idoso.append((nome, idade, unidades))  # 60+ \n",
    "    elif unidades <= 20:\n",
    "        caixa_rapido.append((nome, idade, unidades))  # 20uni\n",
    "    else:\n",
    "        caixa_comum.append((nome, idade, unidades))  # comum\n"
   ]
  },
  {
   "cell_type": "code",
   "execution_count": 58,
   "metadata": {},
   "outputs": [],
   "source": [
    "def simular_supermercado():\n",
    " # Pessoas \n",
    "    clientes = [\n",
    "        (\"Ana\", 25, 15),\n",
    "        (\"Carlos\", 70, 5),\n",
    "        (\"Fernanda\", 45, 30),\n",
    "        (\"José\", 20, 18),\n",
    "        (\"Maria\", 35, 8),\n",
    "        (\"Ricardo\", 62, 10),\n",
    "        (\"Luana\", 18, 25),\n",
    "        (\"Paulo\", 68, 3),\n",
    "        (\"Joana\", 50, 21),\n",
    "        (\"Carlos\", 29, 12)\n",
    "    ]"
   ]
  },
  {
   "cell_type": "code",
   "execution_count": 60,
   "metadata": {},
   "outputs": [
    {
     "ename": "IndentationError",
     "evalue": "unindent does not match any outer indentation level (<string>, line 6)",
     "output_type": "error",
     "traceback": [
      "\u001b[1;36m  File \u001b[1;32m<string>:6\u001b[1;36m\u001b[0m\n\u001b[1;33m    print(\"Fila do Caixa Rápido (até 20 unidades):\")\u001b[0m\n\u001b[1;37m                                                    ^\u001b[0m\n\u001b[1;31mIndentationError\u001b[0m\u001b[1;31m:\u001b[0m unindent does not match any outer indentation level\n"
     ]
    }
   ],
   "source": [
    "for cliente in clientes:\n",
    "        nome, idade, unidades = cliente\n",
    "        adicionar_cliente(nome, idade, unidades)\n",
    "    \n",
    "    # Exibindo as filas resultantes\n",
    "    print(\"Fila do Caixa Rápido (até 20 unidades):\")\n",
    "    for cliente in caixa_rapido:\n",
    "        print(f\"{cliente[0]} (Idade: {cliente[1]}, Unidades: {cliente[2]})\")\n",
    "    \n",
    "    print(\"\\nFila do Caixa para Idosos (60 anos ou mais):\")\n",
    "    for cliente in caixa_idoso:\n",
    "        print(f\"{cliente[0]} (Idade: {cliente[1]}, Unidades: {cliente[2]})\")\n",
    "    \n",
    "    print(\"\\nFila do Caixa Comum:\")\n",
    "    for cliente in caixa_comum:\n",
    "        print(f\"{cliente[0]} (Idade: {cliente[1]}, Unidades: {cliente[2]})\")\n",
    "\n",
    "simular_supermercado()"
   ]
  }
 ],
 "metadata": {
  "kernelspec": {
   "display_name": "Python 3",
   "language": "python",
   "name": "python3"
  },
  "language_info": {
   "codemirror_mode": {
    "name": "ipython",
    "version": 3
   },
   "file_extension": ".py",
   "mimetype": "text/x-python",
   "name": "python",
   "nbconvert_exporter": "python",
   "pygments_lexer": "ipython3",
   "version": "3.12.2"
  }
 },
 "nbformat": 4,
 "nbformat_minor": 2
}
