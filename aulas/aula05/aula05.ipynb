{
 "cells": [
  {
   "cell_type": "markdown",
   "metadata": {},
   "source": [
    "# Aula 05 - Introdução ao List Comprehension e Format"
   ]
  },
  {
   "cell_type": "markdown",
   "metadata": {},
   "source": [
    "> Nessa aula iremos dar introdução ao list comprehension, uma forma mais simples de realizar conversões de valores entre duas listas. Atualmente é uma das formas mais simples de aplicar conversões, substituindo as declarações mais extensas do que o método conversional, lambda e o map.\n"
   ]
  },
  {
   "cell_type": "markdown",
   "metadata": {},
   "source": [
    "## Exemplo 1 - Conversão de Celsius para Fahrenheit"
   ]
  },
  {
   "cell_type": "code",
   "execution_count": 21,
   "metadata": {},
   "outputs": [
    {
     "name": "stdout",
     "output_type": "stream",
     "text": [
      "[50.0, 68.0, 86.0, 95.0, 104.0, 122.0]\n"
     ]
    }
   ],
   "source": [
    "celsius = [10,20,30,35,40,50]\n",
    "fahrenheit = [round(x*1.8+32,2) for x in celsius]\n",
    "print(fahrenheit)\n",
    "\n"
   ]
  },
  {
   "cell_type": "markdown",
   "metadata": {},
   "source": [
    "## Exemplo 2 - Conversão de KMH para Mph"
   ]
  },
  {
   "cell_type": "code",
   "execution_count": 22,
   "metadata": {},
   "outputs": [
    {
     "name": "stdout",
     "output_type": "stream",
     "text": [
      "[62.11, 15.53, 43.48, 49.69, 111.8]\n"
     ]
    }
   ],
   "source": [
    "kmh = [100, 25, 70, 80, 180]\n",
    "mph = [round(x/1.61,2) for x in kmh]\n",
    "print(mph)"
   ]
  },
  {
   "cell_type": "code",
   "execution_count": 23,
   "metadata": {},
   "outputs": [
    {
     "name": "stdout",
     "output_type": "stream",
     "text": [
      "kmh   mph   \n",
      "============\n",
      "100   62.11 \n",
      "25    15.53 \n",
      "70    43.48 \n",
      "80    49.69 \n",
      "180   111.8 \n"
     ]
    }
   ],
   "source": [
    "print(\"{:<6}{:<6}\". format(\"kmh\", \"mph\"))\n",
    "print(\"============\")\n",
    "x = 0\n",
    "while(x<len(kmh)):\n",
    "    print(\"{:<6}{:<6}\".format (kmh[x], mph[x]))\n",
    "    x +=1"
   ]
  },
  {
   "cell_type": "markdown",
   "metadata": {},
   "source": [
    "# Exercício 1"
   ]
  },
  {
   "cell_type": "markdown",
   "metadata": {},
   "source": [
    "> Crie uma lista com 10 valores em metros. Crie uma tabela de conversão para polegadas, pés, jardas e milhas maríimas. Listando o número da linha e o cabeçalho da tabela"
   ]
  },
  {
   "cell_type": "code",
   "execution_count": 24,
   "metadata": {},
   "outputs": [
    {
     "name": "stdout",
     "output_type": "stream",
     "text": [
      "[10, 15, 35, 75, 100, 110, 145, 170, 185, 195]\n",
      "[4, 6, 14, 29, 39, 43, 57, 66, 72, 76]\n",
      "[11, 16, 38, 82, 109, 120, 159, 186, 202, 213]\n",
      "[185.2, 277.8, 648.2, 1389.0, 1852.0, 2037.2, 2685.4, 3148.4, 3426.2, 3611.4]\n"
     ]
    }
   ],
   "source": [
    "mts = [10, 15, 35, 75, 100, 110, 145, 170, 185, 195]\n",
    "mts.sort()\n",
    "print(mts)\n",
    "ft = [round(x*0.39) for x in mts]\n",
    "print(ft)\n",
    "\n",
    "yd = [round(x/0.9144) for x in mts]\n",
    "print(yd)\n",
    "\n",
    "mm = [round(x/100*1852,2) for x in mts]\n",
    "print(mm)\n"
   ]
  },
  {
   "cell_type": "code",
   "execution_count": 25,
   "metadata": {},
   "outputs": [
    {
     "name": "stdout",
     "output_type": "stream",
     "text": [
      "Nº     mts    ft     yd     mm     \n",
      "===================================\n",
      "1      10     4      11     185.2  \n",
      "2      15     6      16     277.8  \n",
      "3      35     14     38     648.2  \n",
      "4      75     29     82     1389.0 \n",
      "5      100    39     109    1852.0 \n",
      "6      110    43     120    2037.2 \n",
      "7      145    57     159    2685.4 \n",
      "8      170    66     186    3148.4 \n",
      "9      185    72     202    3426.2 \n",
      "10     195    76     213    3611.4 \n"
     ]
    }
   ],
   "source": [
    "print(\"{:<7}{:<7}{:<7}{:<7}{:<7}\" .format (\"Nº\",\"mts\", \"ft\", \"yd\", \"mm\"))\n",
    "print(\"===================================\")\n",
    "x = 0\n",
    "for x in range (len(mts)):\n",
    "    print(\"{:<7}{:<7}{:<7}{:<7}{:<7}\".format (x+1, mts[x], ft[x], yd[x], mm[x]))\n",
    "    x +=1"
   ]
  },
  {
   "cell_type": "markdown",
   "metadata": {},
   "source": [
    "# Exercício 2"
   ]
  },
  {
   "cell_type": "markdown",
   "metadata": {},
   "source": [
    "> Crie uma lista com 10 valores em Kelvin. Crie uma tabela de conversão para celsius e fahrenheit, listando o número da linha e o cabeçalho da tabela."
   ]
  },
  {
   "cell_type": "code",
   "execution_count": 26,
   "metadata": {},
   "outputs": [
    {
     "name": "stdout",
     "output_type": "stream",
     "text": [
      "[10, 15, 35, 75, 100, 110, 145, 170, 185, 195]\n",
      "[-263, -258, -238, -198, -173, -163, -128, -103, -88, -78]\n",
      "[-441.0, -432.0, -396.0, -324.0, -279.0, -261.0, -198.0, -153.0, -126.0, -108.0]\n"
     ]
    }
   ],
   "source": [
    "kelvin = [10, 15, 35, 75, 100, 110, 145, 170, 185, 195]\n",
    "kelvin.sort()\n",
    "print(kelvin)\n",
    "\n",
    "celsius = [round(x-273.15) for x in kelvin]\n",
    "print(celsius)\n",
    "\n",
    "fahrenheit = [round(x*9/5 - 459,67) for x in kelvin]\n",
    "print(fahrenheit)\n",
    "\n"
   ]
  },
  {
   "cell_type": "code",
   "execution_count": 27,
   "metadata": {},
   "outputs": [
    {
     "name": "stdout",
     "output_type": "stream",
     "text": [
      "Nº     kelvin celsius fahrenheit\n",
      "================================\n",
      "1      10     -263    -441.0   \n",
      "2      15     -258    -432.0   \n",
      "3      35     -238    -396.0   \n",
      "4      75     -198    -324.0   \n",
      "5      100    -173    -279.0   \n",
      "6      110    -163    -261.0   \n",
      "7      145    -128    -198.0   \n",
      "8      170    -103    -153.0   \n",
      "9      185    -88     -126.0   \n",
      "10     195    -78     -108.0   \n"
     ]
    }
   ],
   "source": [
    "print(\"{:<7}{:<7}{:<8}{:<9}\" .format (\"Nº\",\"kelvin\", \"celsius\", \"fahrenheit\"))\n",
    "print(\"================================\")\n",
    "x = 0\n",
    "for x in range (len(kelvin)):\n",
    "    print(\"{:<7}{:<7}{:<8}{:<9}\".format (x+1, kelvin[x], celsius[x], fahrenheit[x]))\n",
    "    x +=1"
   ]
  },
  {
   "cell_type": "markdown",
   "metadata": {},
   "source": [
    "## Exercício 3"
   ]
  },
  {
   "cell_type": "markdown",
   "metadata": {},
   "source": [
    "> Crie um uma lista com 10 pesos em quilos. Faça a conversão para o peso na Terra, Lua, Júpiter, Saturno e Mercúrio. Monte uma tabela com o cabeçalho e a numeração conforme os exercícios passados."
   ]
  },
  {
   "cell_type": "code",
   "execution_count": 28,
   "metadata": {},
   "outputs": [
    {
     "name": "stdout",
     "output_type": "stream",
     "text": [
      "[10, 15, 35, 75, 100, 110, 145, 170, 185, 195]\n",
      "[98, 147, 343, 736, 981, 1079, 1422, 1668, 1815, 1913]\n",
      "[16, 24, 57, 122, 162, 178, 235, 275, 300, 316]\n",
      "[248, 372, 868, 1859, 2479, 2727, 3595, 4214, 4586, 4834]\n",
      "[104, 157, 365, 783, 1044, 1148, 1514, 1775, 1931, 2036]\n",
      "[37, 56, 130, 278, 370, 407, 536, 629, 684, 722]\n"
     ]
    }
   ],
   "source": [
    "peso = [10, 15, 35, 75, 100, 110, 145, 170, 185, 195]\n",
    "peso.sort()\n",
    "print(peso)\n",
    "\n",
    "terra = [round(x*9.81) for x in peso]\n",
    "print(terra)\n",
    "\n",
    "lua = [round(x*1.62) for x in peso]\n",
    "print(lua)\n",
    "\n",
    "jupiter = [round(x*24.79) for x in peso]\n",
    "print(jupiter)\n",
    "\n",
    "saturno = [round(x*10.44) for x in peso]\n",
    "print(saturno)\n",
    "\n",
    "mercurio = [round(x*3.7) for x in peso]\n",
    "print(mercurio)\n"
   ]
  },
  {
   "cell_type": "code",
   "execution_count": 29,
   "metadata": {},
   "outputs": [
    {
     "name": "stdout",
     "output_type": "stream",
     "text": [
      "Peso  Terra  Lua  Júpiter Saturno Mercúrio \n",
      "============================================\n",
      "1     10     98   16      248     104      \n",
      "2     15     147  24      372     157      \n",
      "3     35     343  57      868     365      \n",
      "4     75     736  122     1859    783      \n",
      "5     100    981  162     2479    1044     \n",
      "6     110    1079 178     2727    1148     \n",
      "7     145    1422 235     3595    1514     \n",
      "8     170    1668 275     4214    1775     \n",
      "9     185    1815 300     4586    1931     \n",
      "10    195    1913 316     4834    2036     \n"
     ]
    }
   ],
   "source": [
    "print(\"{:<6}{:<7}{:<5}{:<8}{:<8}{:<9}\" .format (\"Peso\",\"Terra\", \"Lua\", \"Júpiter\",\"Saturno\", \"Mercúrio\"))\n",
    "print(\"============================================\")\n",
    "x = 0\n",
    "for x in range (len(peso)):\n",
    "    print(\"{:<6}{:<7}{:<5}{:<8}{:<8}{:<9}\".format (x+1, peso[x], terra[x], lua[x], jupiter[x], saturno[x], mercurio[x]))\n",
    "    x +=1"
   ]
  }
 ],
 "metadata": {
  "kernelspec": {
   "display_name": "Python 3",
   "language": "python",
   "name": "python3"
  },
  "language_info": {
   "codemirror_mode": {
    "name": "ipython",
    "version": 3
   },
   "file_extension": ".py",
   "mimetype": "text/x-python",
   "name": "python",
   "nbconvert_exporter": "python",
   "pygments_lexer": "ipython3",
   "version": "3.12.2"
  }
 },
 "nbformat": 4,
 "nbformat_minor": 2
}
