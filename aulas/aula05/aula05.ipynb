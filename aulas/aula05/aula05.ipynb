{
 "cells": [
  {
   "cell_type": "markdown",
   "metadata": {},
   "source": [
    "# Aula 05 - Introdução ao List Comprehension e Format"
   ]
  },
  {
   "cell_type": "markdown",
   "metadata": {},
   "source": [
    "> Nessa aula iremos dar introdução ao list comprehension, uma forma mais simples de realizar conversões de valores entre duas listas. Atualmente é uma das formas mais simples de aplicar conversões, substituindo as declarações mais extensas do que o método conversional, lambda e o map.\n"
   ]
  },
  {
   "cell_type": "markdown",
   "metadata": {},
   "source": [
    "## Exemplo 1 - Conversão de Celsius para Fahrenheit"
   ]
  },
  {
   "cell_type": "code",
   "execution_count": 116,
   "metadata": {},
   "outputs": [
    {
     "name": "stdout",
     "output_type": "stream",
     "text": [
      "[50.0, 68.0, 86.0, 95.0, 104.0, 122.0]\n"
     ]
    }
   ],
   "source": [
    "celsius = [10,20,30,35,40,50]\n",
    "fahrenheit = [round(x*1.8+32,2) for x in celsius]\n",
    "print(fahrenheit)\n",
    "\n"
   ]
  },
  {
   "cell_type": "markdown",
   "metadata": {},
   "source": [
    "## Exemplo 2 - Conversão de KMH para Mph"
   ]
  },
  {
   "cell_type": "code",
   "execution_count": 117,
   "metadata": {},
   "outputs": [
    {
     "name": "stdout",
     "output_type": "stream",
     "text": [
      "[62.11, 15.53, 43.48, 49.69, 111.8]\n"
     ]
    }
   ],
   "source": [
    "kmh = [100, 25, 70, 80, 180]\n",
    "mph = [round(x/1.61,2) for x in kmh]\n",
    "print(mph)"
   ]
  },
  {
   "cell_type": "code",
   "execution_count": 118,
   "metadata": {},
   "outputs": [
    {
     "name": "stdout",
     "output_type": "stream",
     "text": [
      "kmh   mph   \n",
      "============\n",
      "100   62.11 \n",
      "25    15.53 \n",
      "70    43.48 \n",
      "80    49.69 \n",
      "180   111.8 \n"
     ]
    }
   ],
   "source": [
    "print(\"{:<6}{:<6}\". format(\"kmh\", \"mph\"))\n",
    "print(\"============\")\n",
    "x = 0\n",
    "while(x<len(kmh)):\n",
    "    print(\"{:<6}{:<6}\".format (kmh[x], mph[x]))\n",
    "    x +=1"
   ]
  },
  {
   "cell_type": "markdown",
   "metadata": {},
   "source": [
    "# Exercício 1"
   ]
  },
  {
   "cell_type": "markdown",
   "metadata": {},
   "source": [
    "> Crie uma lista com 10 valores em metros. Crie uma tabela de conversão para polegadas, pés, jardas e milhas maríimas. Listando o número da linha e o cabeçalho da tabela"
   ]
  },
  {
   "cell_type": "code",
   "execution_count": 119,
   "metadata": {},
   "outputs": [
    {
     "name": "stdout",
     "output_type": "stream",
     "text": [
      "[10, 15, 35, 75, 100, 110, 145, 170, 185, 195]\n",
      "[4, 6, 14, 29, 39, 43, 57, 66, 72, 76]\n",
      "[11, 16, 38, 82, 109, 120, 159, 186, 202, 213]\n",
      "[185.2, 277.8, 648.2, 1389.0, 1852.0, 2037.2, 2685.4, 3148.4, 3426.2, 3611.4]\n"
     ]
    }
   ],
   "source": [
    "mts = [10, 15, 35, 75, 100, 110, 145, 170, 185, 195]\n",
    "mts.sort()\n",
    "print(mts)\n",
    "ft = [round(x*0.39) for x in mts]\n",
    "print(ft)\n",
    "\n",
    "yd = [round(x/0.9144) for x in mts]\n",
    "print(yd)\n",
    "\n",
    "mm = [round(x/100*1852,2) for x in mts]\n",
    "print(mm)\n"
   ]
  },
  {
   "cell_type": "code",
   "execution_count": 120,
   "metadata": {},
   "outputs": [
    {
     "name": "stdout",
     "output_type": "stream",
     "text": [
      "Nº     mts    ft     yd     mm     \n",
      "============================\n",
      "1      10     4      11     185.2  \n",
      "2      15     6      16     277.8  \n",
      "3      35     14     38     648.2  \n",
      "4      75     29     82     1389.0 \n",
      "5      100    39     109    1852.0 \n",
      "6      110    43     120    2037.2 \n",
      "7      145    57     159    2685.4 \n",
      "8      170    66     186    3148.4 \n",
      "9      185    72     202    3426.2 \n",
      "10     195    76     213    3611.4 \n"
     ]
    }
   ],
   "source": [
    "print(\"{:<7}{:<7}{:<7}{:<7}{:<7}\" .format (\"Nº\",\"mts\", \"ft\", \"yd\", \"mm\"))\n",
    "print(\"============================\")\n",
    "x = 0\n",
    "for x in range (len(mts)):\n",
    "    print(\"{:<7}{:<7}{:<7}{:<7}{:<7}\".format (x+1, mts[x], ft[x], yd[x], mm[x]))\n",
    "    x +=1"
   ]
  },
  {
   "cell_type": "markdown",
   "metadata": {},
   "source": [
    "# Exercício 2"
   ]
  },
  {
   "cell_type": "markdown",
   "metadata": {},
   "source": [
    "> Crie uma lista com 10 valores em Kelvin. Crie uma tabela de conversão para celsius e fahrenheit, listando o número da linha e o cabeçalho da tabela."
   ]
  },
  {
   "cell_type": "code",
   "execution_count": 121,
   "metadata": {},
   "outputs": [
    {
     "name": "stdout",
     "output_type": "stream",
     "text": [
      "[10, 15, 35, 75, 100, 110, 145, 170, 185, 195]\n",
      "[-263, -258, -238, -198, -173, -163, -128, -103, -88, -78]\n",
      "[-441.0, -432.0, -396.0, -324.0, -279.0, -261.0, -198.0, -153.0, -126.0, -108.0]\n"
     ]
    }
   ],
   "source": [
    "kelvin = [10, 15, 35, 75, 100, 110, 145, 170, 185, 195]\n",
    "kelvin.sort()\n",
    "print(kelvin)\n",
    "\n",
    "celsius = [round(x-273.15) for x in kelvin]\n",
    "print(celsius)\n",
    "\n",
    "fahrenheit = [round(x*9/5 - 459,67) for x in kelvin]\n",
    "print(fahrenheit)\n",
    "\n"
   ]
  },
  {
   "cell_type": "code",
   "execution_count": 122,
   "metadata": {},
   "outputs": [
    {
     "name": "stdout",
     "output_type": "stream",
     "text": [
      "Nº     kelvin celsius fahrenheit\n",
      "================================\n",
      "1      10     -263    -441.0   \n",
      "2      15     -258    -432.0   \n",
      "3      35     -238    -396.0   \n",
      "4      75     -198    -324.0   \n",
      "5      100    -173    -279.0   \n",
      "6      110    -163    -261.0   \n",
      "7      145    -128    -198.0   \n",
      "8      170    -103    -153.0   \n",
      "9      185    -88     -126.0   \n",
      "10     195    -78     -108.0   \n"
     ]
    }
   ],
   "source": [
    "print(\"{:<7}{:<7}{:<8}{:<9}\" .format (\"Nº\",\"kelvin\", \"celsius\", \"fahrenheit\"))\n",
    "print(\"================================\")\n",
    "x = 0\n",
    "for x in range (len(kelvin)):\n",
    "    print(\"{:<7}{:<7}{:<8}{:<9}\".format (x+1, kelvin[x], celsius[x], fahrenheit[x]))\n",
    "    x +=1"
   ]
  }
 ],
 "metadata": {
  "kernelspec": {
   "display_name": "Python 3",
   "language": "python",
   "name": "python3"
  },
  "language_info": {
   "codemirror_mode": {
    "name": "ipython",
    "version": 3
   },
   "file_extension": ".py",
   "mimetype": "text/x-python",
   "name": "python",
   "nbconvert_exporter": "python",
   "pygments_lexer": "ipython3",
   "version": "3.12.2"
  }
 },
 "nbformat": 4,
 "nbformat_minor": 2
}
