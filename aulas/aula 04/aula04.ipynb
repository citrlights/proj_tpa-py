{
 "cells": [
  {
   "cell_type": "markdown",
   "metadata": {},
   "source": [
    "# Aula 04"
   ]
  },
  {
   "cell_type": "code",
   "execution_count": 395,
   "metadata": {},
   "outputs": [],
   "source": [
    "def somar():\n",
    "    x=2\n",
    "    y=2\n",
    "    res=x+y\n",
    "    print(res)"
   ]
  },
  {
   "cell_type": "code",
   "execution_count": 396,
   "metadata": {},
   "outputs": [],
   "source": [
    "def adicao(x,y):\n",
    "    res=x+y\n",
    "    print(res)\n"
   ]
  },
  {
   "cell_type": "code",
   "execution_count": 397,
   "metadata": {},
   "outputs": [
    {
     "name": "stdout",
     "output_type": "stream",
     "text": [
      "4\n"
     ]
    }
   ],
   "source": [
    "adicao(2,2)"
   ]
  },
  {
   "cell_type": "code",
   "execution_count": 398,
   "metadata": {},
   "outputs": [],
   "source": [
    "def multiplicacao(x, y):\n",
    "    res = x * y\n",
    "    print(res)\n",
    "\n",
    "def divisao(x, y):\n",
    "        res = x / y\n",
    "        print(res)\n",
    "\n",
    "def subtracao(x, y):\n",
    "    res = x - y\n",
    "    print(res)\n",
    "\n",
    "    "
   ]
  },
  {
   "cell_type": "markdown",
   "metadata": {},
   "source": [
    "### função lambda = forma rápida de criar funções com menos recurso e quantidade de comandos"
   ]
  },
  {
   "cell_type": "code",
   "execution_count": 399,
   "metadata": {},
   "outputs": [],
   "source": [
    "menos = lambda x,y:x-y"
   ]
  },
  {
   "cell_type": "markdown",
   "metadata": {},
   "source": []
  },
  {
   "cell_type": "code",
   "execution_count": 400,
   "metadata": {},
   "outputs": [
    {
     "name": "stdout",
     "output_type": "stream",
     "text": [
      "3\n"
     ]
    }
   ],
   "source": [
    "print(menos(5,2))"
   ]
  },
  {
   "cell_type": "code",
   "execution_count": 401,
   "metadata": {},
   "outputs": [
    {
     "name": "stdout",
     "output_type": "stream",
     "text": [
      "1\n"
     ]
    }
   ],
   "source": [
    "cdelta = lambda a, b, c: b**2 - 4*a*c\n",
    "a= 1\n",
    "b= -3\n",
    "c= 2\n",
    "\n",
    "delta = cdelta(a,b,c)\n",
    "print(delta)"
   ]
  },
  {
   "cell_type": "markdown",
   "metadata": {},
   "source": [
    "Código chamado bhakara, deverá retornar x1 e x2. os valores de entrada deveraõ conter delta e x. se o usuário escolher 1, deve retornar x2."
   ]
  },
  {
   "cell_type": "markdown",
   "metadata": {},
   "source": [
    "bhaskara = lambda a,b, cdelta, x, x1, x2: x = -b ± math.sqrt(cdelta)/2*a\n",
    "#n deu certo, falta de uso do math (q eu n sei como usa tb)\n"
   ]
  },
  {
   "cell_type": "code",
   "execution_count": 403,
   "metadata": {},
   "outputs": [
    {
     "ename": "IndentationError",
     "evalue": "unindent does not match any outer indentation level (<string>, line 14)",
     "output_type": "error",
     "traceback": [
      "\u001b[1;36m  File \u001b[1;32m<string>:14\u001b[1;36m\u001b[0m\n\u001b[1;33m    return res\u001b[0m\n\u001b[1;37m                             ^\u001b[0m\n\u001b[1;31mIndentationError\u001b[0m\u001b[1;31m:\u001b[0m unindent does not match any outer indentation level\n"
     ]
    }
   ],
   "source": [
    "import math\n",
    "def bhaskara (a,b,c,x):\n",
    "    if(a==0):\n",
    "        res = 'Impossível calcular'\n",
    "    else:\n",
    "        delta = (b^b) - (4*a*c)\n",
    "        if(delta<0):\n",
    "            res = \"Impossível calcular\"\n",
    "        else:\n",
    "            if(x==1):\n",
    "                res = (-b+math.sqrt(delta))/(2*a)\n",
    "                if(x==2):\n",
    "                    res = (-b+math.sqrt(delta))/(2*a)\n",
    "     return res               "
   ]
  },
  {
   "cell_type": "markdown",
   "metadata": {},
   "source": [
    "# Funções Map\n"
   ]
  },
  {
   "cell_type": "code",
   "execution_count": 187,
   "metadata": {},
   "outputs": [
    {
     "name": "stdout",
     "output_type": "stream",
     "text": [
      "[24.84]\n",
      "[24.84, 31.06]\n",
      "[24.84, 31.06, 46.58]\n",
      "[24.84, 31.06, 46.58, 62.11]\n",
      "[24.84, 31.06, 46.58, 62.11, 124.22]\n"
     ]
    }
   ],
   "source": [
    "kph = [40,50,75,100,200]\n",
    "mph = []\n",
    "for i in kph:\n",
    "    mph.append(round(i/1.61,2))\n",
    "    print(mph)"
   ]
  },
  {
   "cell_type": "code",
   "execution_count": null,
   "metadata": {},
   "outputs": [],
   "source": [
    "mph2 = list(map(lambda x: round(x/1.61,2)))\n",
    "print(mph2)"
   ]
  },
  {
   "cell_type": "markdown",
   "metadata": {},
   "source": [
    "5 valores em celsius > Fahrenheit"
   ]
  },
  {
   "cell_type": "code",
   "execution_count": 255,
   "metadata": {},
   "outputs": [
    {
     "name": "stdout",
     "output_type": "stream",
     "text": [
      "[46]\n",
      "[46, 73]\n",
      "[46, 73, 93]\n",
      "[46, 73, 93, 102]\n",
      "[46, 73, 93, 102, 108]\n"
     ]
    }
   ],
   "source": [
    "cel = [8,23,34,39,42]\n",
    "fah = []\n",
    "for z in cel:\n",
    "    fah.append(round((z*1.80)+ 32))\n",
    "    print(fah)"
   ]
  },
  {
   "cell_type": "code",
   "execution_count": null,
   "metadata": {},
   "outputs": [],
   "source": [
    "fah2 = list(map(lambda x: round(x*1.80 + 32)))\n",
    "print(fah2)"
   ]
  }
 ],
 "metadata": {
  "kernelspec": {
   "display_name": "Python 3",
   "language": "python",
   "name": "python3"
  },
  "language_info": {
   "codemirror_mode": {
    "name": "ipython",
    "version": 3
   },
   "file_extension": ".py",
   "mimetype": "text/x-python",
   "name": "python",
   "nbconvert_exporter": "python",
   "pygments_lexer": "ipython3",
   "version": "3.12.2"
  }
 },
 "nbformat": 4,
 "nbformat_minor": 2
}
