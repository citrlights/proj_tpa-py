{
 "cells": [
  {
   "cell_type": "markdown",
   "metadata": {},
   "source": [
    "## Tuplas e dicionários"
   ]
  },
  {
   "cell_type": "code",
   "execution_count": 11,
   "metadata": {},
   "outputs": [
    {
     "name": "stdout",
     "output_type": "stream",
     "text": [
      "[2, 5, 9]\n"
     ]
    }
   ],
   "source": [
    "lista = [2,5,9]\n",
    "lista[1]\n",
    "print(lista)"
   ]
  },
  {
   "cell_type": "markdown",
   "metadata": {},
   "source": [
    "## Intro. Tupla"
   ]
  },
  {
   "cell_type": "code",
   "execution_count": 12,
   "metadata": {},
   "outputs": [
    {
     "data": {
      "text/plain": [
       "8"
      ]
     },
     "execution_count": 12,
     "metadata": {},
     "output_type": "execute_result"
    }
   ],
   "source": [
    "tupla = (6,8,9)\n",
    "tupla[1]"
   ]
  },
  {
   "cell_type": "code",
   "execution_count": 13,
   "metadata": {},
   "outputs": [
    {
     "name": "stdout",
     "output_type": "stream",
     "text": [
      "[2, 5, 9, 7]\n"
     ]
    }
   ],
   "source": [
    "lista.append(7)\n",
    "print(lista)"
   ]
  },
  {
   "cell_type": "code",
   "execution_count": 14,
   "metadata": {},
   "outputs": [
    {
     "name": "stdout",
     "output_type": "stream",
     "text": [
      "(1, 5, 8)\n"
     ]
    }
   ],
   "source": [
    "tupla = (1,5,8)\n",
    "print(tupla)"
   ]
  },
  {
   "cell_type": "markdown",
   "metadata": {},
   "source": [
    "## Intro. Dicionário"
   ]
  },
  {
   "cell_type": "code",
   "execution_count": 15,
   "metadata": {},
   "outputs": [
    {
     "name": "stdout",
     "output_type": "stream",
     "text": [
      "Desenvolvimento de sistemas\n",
      "2024\n",
      "tecnica de programacao\n",
      "gustavo\n"
     ]
    }
   ],
   "source": [
    "dicionario = {\n",
    "    'curso':'Desenvolvimento de sistemas',\n",
    "    'ano': 2024,\n",
    "    'modulo':'tecnica de programacao',\n",
    "    'professor':'gustavo'\n",
    "}\n",
    "\n",
    "print(dicionario['curso'])\n",
    "print(dicionario['ano'])\n",
    "print(dicionario['modulo'])\n",
    "print(dicionario['professor'])"
   ]
  },
  {
   "cell_type": "code",
   "execution_count": 16,
   "metadata": {},
   "outputs": [
    {
     "name": "stdout",
     "output_type": "stream",
     "text": [
      "10\n"
     ]
    }
   ],
   "source": [
    "dicionario['nota']=10\n",
    "print(dicionario['nota'])"
   ]
  },
  {
   "cell_type": "code",
   "execution_count": 17,
   "metadata": {},
   "outputs": [
    {
     "name": "stdout",
     "output_type": "stream",
     "text": [
      "{'curso': 'Desenvolvimento de sistemas', 'ano': 2024, 'modulo': 'tecnica de programacao', 'professor': 'gustavo', 'nota': 10}\n"
     ]
    }
   ],
   "source": [
    "print(dicionario)"
   ]
  },
  {
   "cell_type": "code",
   "execution_count": 18,
   "metadata": {},
   "outputs": [
    {
     "name": "stdout",
     "output_type": "stream",
     "text": [
      "curso\n",
      "ano\n",
      "modulo\n",
      "professor\n",
      "nota\n"
     ]
    }
   ],
   "source": [
    "for x in dicionario.keys():\n",
    "    print(x)"
   ]
  },
  {
   "cell_type": "markdown",
   "metadata": {},
   "source": [
    "## Exercício 1"
   ]
  },
  {
   "cell_type": "markdown",
   "metadata": {},
   "source": [
    "> crie 3 dicionários: Matricula, aluno e disciplina.\n",
    "A matricula terá o código da mátricula, data_inscrição e curso;\n",
    "Aluno terá registro e nome; A disciplina tem registro, nome e professor.\n",
    "Ao final, adicione os três dicionários em uma tupla chamada escola."
   ]
  },
  {
   "cell_type": "code",
   "execution_count": 19,
   "metadata": {},
   "outputs": [
    {
     "name": "stdout",
     "output_type": "stream",
     "text": [
      "dict_values(['12061999', '30/01/2021', 'espanhol'])\n",
      "dict_values(['27112021', 'raphael veiga'])\n",
      "dict_values(['01112023', 'espanhol', 'gustavo gomez'])\n"
     ]
    }
   ],
   "source": [
    "matricula = {\n",
    "    'código':'12061999',\n",
    "    'data de inscrição':'30/01/2021',\n",
    "    'curso':'espanhol'\n",
    "}\n",
    "\n",
    "aluno = {\n",
    "    'registro': '27112021',\n",
    "    'nome':'raphael veiga'\n",
    "}\n",
    "\n",
    "disciplina= {\n",
    "    'registro':'01112023',\n",
    "    'nome':'espanhol',\n",
    "    'professor': 'gustavo gomez'\n",
    "}\n",
    "\n",
    "escola = (matricula, aluno, disciplina)\n",
    "for x in escola:\n",
    "    print(x.values())"
   ]
  },
  {
   "cell_type": "markdown",
   "metadata": {},
   "source": [
    "## Exercício 2\n",
    "> Crie 3 dicionários para as seguintes tabelas:\n",
    "vendedor, produto e venda. O vendedor terá registro, admissão; produto terá o ID, nome, fabricante; A venda terá reg_vendedor, id_produto e valor. Após a criação dos dicionários, adicionem a uma tupla chamada casas_bahiano."
   ]
  },
  {
   "cell_type": "code",
   "execution_count": 20,
   "metadata": {},
   "outputs": [
    {
     "name": "stdout",
     "output_type": "stream",
     "text": [
      "dict_values(['12061999', '30/01/2021', 'eduardo'])\n",
      "dict_values(['27112021', 'Camiseta Especial', 'puma'])\n",
      "dict_values(['12061999', '27112021', '449.90'])\n"
     ]
    }
   ],
   "source": [
    "vendedor = {\n",
    "    'regisro':'12061999',\n",
    "    'admissão':'30/01/2021',\n",
    "    'nome':'eduardo'\n",
    "}\n",
    "\n",
    "produto = {\n",
    "    'id': '27112021',\n",
    "    'nome':'Camiseta Especial',\n",
    "    'fabricante':'puma'\n",
    "}\n",
    "\n",
    "venda= {\n",
    "    'reg_vendedor':'12061999',\n",
    "    'id_produto':'27112021',\n",
    "    'valor': '449.90'\n",
    "}\n",
    "\n",
    "casas_bahiano = (vendedor, produto, venda)\n",
    "for x in casas_bahiano:\n",
    "    print(x.values()) \n"
   ]
  }
 ],
 "metadata": {
  "kernelspec": {
   "display_name": "Python 3",
   "language": "python",
   "name": "python3"
  },
  "language_info": {
   "codemirror_mode": {
    "name": "ipython",
    "version": 3
   },
   "file_extension": ".py",
   "mimetype": "text/x-python",
   "name": "python",
   "nbconvert_exporter": "python",
   "pygments_lexer": "ipython3",
   "version": "3.12.2"
  }
 },
 "nbformat": 4,
 "nbformat_minor": 2
}
